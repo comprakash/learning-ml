{
 "cells": [
  {
   "cell_type": "code",
   "execution_count": 1,
   "metadata": {},
   "outputs": [],
   "source": [
    "import numpy as np\n",
    "# don't change any function name write you all code inside the function only for every question solution and return you output as mentioned in problem statement."
   ]
  },
  {
   "cell_type": "markdown",
   "metadata": {},
   "source": [
    "### 1. Write a NumPy program to create an array of all the even integers from a to b(both inclusive).\n",
    "\n",
    "Input: 4,10\n",
    "\n",
    "Output: [4,6,8,10]"
   ]
  },
  {
   "cell_type": "code",
   "execution_count": 8,
   "metadata": {},
   "outputs": [
    {
     "data": {
      "text/plain": [
       "array([ 4,  6,  8, 10])"
      ]
     },
     "execution_count": 8,
     "metadata": {},
     "output_type": "execute_result"
    }
   ],
   "source": [
    "def question_first_solution(a,b):\n",
    "    if a%2!=0:\n",
    "        a += 1\n",
    "    if b%2==0:\n",
    "        b += 1\n",
    "    array=np.arange(a,b,2)\n",
    "    return array\n",
    "question_first_solution(4,10)"
   ]
  },
  {
   "cell_type": "markdown",
   "metadata": {},
   "source": [
    "### 2. Write a NumPy program to create a vector with values from a to b and change the sign of the numbers in the range from c to d.\n",
    "\n",
    "Input: 0, 20, 9, 15\n",
    "\n",
    "Output: [  0,   1,   2,   3,   4,   5,   6,   7,   8,  -9, -10, -11, -12, -13, -14, -15,  16,  17,  18,  19]"
   ]
  },
  {
   "cell_type": "code",
   "execution_count": 7,
   "metadata": {},
   "outputs": [
    {
     "data": {
      "text/plain": [
       "array([  0,   1,   2,   3,   4,   5,   6,   7,   8,  -9, -10, -11, -12,\n",
       "       -13, -14, -15,  16,  17,  18,  19])"
      ]
     },
     "execution_count": 7,
     "metadata": {},
     "output_type": "execute_result"
    }
   ],
   "source": [
    "def question_second_solution(a,b,c,d):\n",
    "    x = np.arange(a,b)\n",
    "    x[(x >= c) & (x <= d)] *= -1\n",
    "    return x\n",
    "question_second_solution(0, 20, 9, 15)"
   ]
  },
  {
   "cell_type": "markdown",
   "metadata": {},
   "source": [
    "### 3. Write a NumPy program to create a mxn matrix, in which the elements on the borders will be equal to 1, and inside 0.\n",
    "\n",
    "Input: 3, 4\n",
    "\n",
    "Output:\n",
    "\n",
    "         [[1., 1., 1., 1.],\n",
    "\n",
    "          [1., 0., 0., 1.],\n",
    "          \n",
    "          [1., 1., 1., 1.]]"
   ]
  },
  {
   "cell_type": "code",
   "execution_count": 6,
   "metadata": {},
   "outputs": [
    {
     "data": {
      "text/plain": [
       "array([[1., 1., 1., 1.],\n",
       "       [1., 0., 0., 1.],\n",
       "       [1., 1., 1., 1.]])"
      ]
     },
     "execution_count": 6,
     "metadata": {},
     "output_type": "execute_result"
    }
   ],
   "source": [
    "def question_third_solution(m,n):\n",
    "    x = np.ones((m, n))\n",
    "    x[1:-1, 1:-1] = 0\n",
    "    return x\n",
    "question_third_solution(3,4)"
   ]
  },
  {
   "cell_type": "markdown",
   "metadata": {},
   "source": [
    "### 4. Write a NumPy program to remove all rows in a NumPy array that contain non-numeric values.\n",
    "\n",
    "Input: [[1,2,3], [4,5,np.nan], [7,8,9], [True, False, True]]\n",
    "\n",
    "Output: [[1., 2., 3.],\n",
    "         [7., 8., 9.],\n",
    "         [1., 0., 1.]]"
   ]
  },
  {
   "cell_type": "code",
   "execution_count": 5,
   "metadata": {},
   "outputs": [
    {
     "data": {
      "text/plain": [
       "array([[1., 2., 3.],\n",
       "       [7., 8., 9.],\n",
       "       [1., 0., 1.]])"
      ]
     },
     "execution_count": 5,
     "metadata": {},
     "output_type": "execute_result"
    }
   ],
   "source": [
    "def question_fourth_solution(x):\n",
    "    x = np.array(x)\n",
    "    return (x[~np.isnan(x).any(axis=1)])\n",
    "    \n",
    "x = [[1,2,3], [4,5,np.nan], [7,8,9], [True, False, True]]\n",
    "question_fourth_solution(x)"
   ]
  },
  {
   "cell_type": "markdown",
   "metadata": {},
   "source": [
    "### 5. Write a NumPy program to select indices satisfying multiple conditions in a NumPy array.\n",
    "Input:\n",
    "\n",
    "a = np.array([97, 101, 105, 110, 109])\n",
    "\n",
    "b = np.array([0, 1, 2, 3, 4])\n",
    "\n",
    "Note: Select the elements from the second array corresponding to elements in the first array that are greater than 100 and less than 110\n",
    "\n",
    "Output: [1, 2, 4]"
   ]
  },
  {
   "cell_type": "code",
   "execution_count": 9,
   "metadata": {},
   "outputs": [
    {
     "name": "stdout",
     "output_type": "stream",
     "text": [
      "[1 2 4]\n"
     ]
    }
   ],
   "source": [
    "def question_fifth_solution(a,b):\n",
    "    a = np.array(a)\n",
    "    b = np.array(b)\n",
    "    return (b[(100 < a) & (a < 110)])\n",
    "a=[97, 101, 105, 110, 109]\n",
    "b=[0, 1, 2, 3, 4]\n",
    "print(question_fifth_solution(a,b))"
   ]
  },
  {
   "cell_type": "markdown",
   "metadata": {},
   "source": [
    "### 6. Write a NumPy program to count the frequency of unique values in numpy array.\n",
    "\n",
    "Input: [10,10,20,10,20,20,20,30, 30,50,40,40]\n",
    "\n",
    "Output: [3, 4, 2, 2, 1]"
   ]
  },
  {
   "cell_type": "code",
   "execution_count": 10,
   "metadata": {},
   "outputs": [
    {
     "data": {
      "text/plain": [
       "array([3, 4, 2, 2, 1])"
      ]
     },
     "execution_count": 10,
     "metadata": {},
     "output_type": "execute_result"
    }
   ],
   "source": [
    "def question_sixth_solution(a):\n",
    "    a = np.array( a )\n",
    "    unique_elements, counts_elements = np.unique(a, return_counts=True)\n",
    "    return counts_elements\n",
    "a =  [10,10,20,10,20,20,20,30, 30,50,40,40]\n",
    "question_sixth_solution(a)\n"
   ]
  },
  {
   "cell_type": "markdown",
   "metadata": {},
   "source": [
    "### 7. Write a NumPy program to search the index of a given array in another given array.\n",
    "\n",
    "Input: [[1,2,3], [4,5,6] , [7,8,9], [10, 11, 12]], [1,2,3]\n",
    "\n",
    "Output: [1]"
   ]
  },
  {
   "cell_type": "code",
   "execution_count": 11,
   "metadata": {},
   "outputs": [
    {
     "name": "stdout",
     "output_type": "stream",
     "text": [
      "[0]\n"
     ]
    }
   ],
   "source": [
    "def question_seventh_solution(array, test_array):\n",
    "    np_array = np.array(array)\n",
    "    test_array = np.array(test_array)\n",
    "    return (np.where((np_array == test_array).all(1))[0])\n",
    "\n",
    "arr =[[1,2,3], [4,5,6] , [7,8,9], [10, 11, 12]]\n",
    "test_array = [1,2,3]\n",
    "print(question_seventh_solution(arr, test_array))"
   ]
  },
  {
   "cell_type": "markdown",
   "metadata": {},
   "source": [
    "### 8. Write a NumPy program to sort a given complex array using the real part first, then the imaginary part.\n",
    "\n",
    "Input: [1 + 2j, 3 - 1j, 3 - 2j, 4 - 3j, 3 + 5j]\n",
    "\n",
    "Output: [1.+2.j, 3.-2.j, 3.-1.j, 3.+5.j, 4.-3.j]"
   ]
  },
  {
   "cell_type": "code",
   "execution_count": 12,
   "metadata": {},
   "outputs": [
    {
     "data": {
      "text/plain": [
       "array([1.+2.j, 3.-2.j, 3.-1.j, 3.+5.j, 4.-3.j])"
      ]
     },
     "execution_count": 12,
     "metadata": {},
     "output_type": "execute_result"
    }
   ],
   "source": [
    "def question_eighth_solution(array):\n",
    "    complex_num = np.array(array)\n",
    "    \n",
    "    return np.sort_complex(complex_num)\n",
    "a = [1 + 2j, 3 - 1j, 3 - 2j, 4 - 3j, 3 + 5j]\n",
    "question_eighth_solution(a)"
   ]
  },
  {
   "cell_type": "markdown",
   "metadata": {},
   "source": [
    "### 9. Write a NumPy program to get the indices of the sorted elements of a given array.\n",
    "Input: [1023, 5202, 6230, 1671, 1682, 5241, 4532]\n",
    "\n",
    "Output: [0, 3, 4, 6, 1, 5, 2]"
   ]
  },
  {
   "cell_type": "code",
   "execution_count": 14,
   "metadata": {},
   "outputs": [
    {
     "data": {
      "text/plain": [
       "array([0, 3, 4, 6, 1, 5, 2])"
      ]
     },
     "execution_count": 14,
     "metadata": {},
     "output_type": "execute_result"
    }
   ],
   "source": [
    "def question_ninth_solution(array):\n",
    "    array = np.array(array)\n",
    "    return np.argsort(array)\n",
    "\n",
    "a = [1023, 5202, 6230, 1671, 1682, 5241, 4532]\n",
    "question_ninth_solution(a)"
   ]
  },
  {
   "cell_type": "markdown",
   "metadata": {},
   "source": [
    "### 10. Write a NumPy program to create a 8x8 matrix and fill it with a checkerboard pattern.\n",
    "\n",
    "Output: [[0 1 0 1 0 1 0 1]                                                      \n",
    "             [1 0 1 0 1 0 1 0]                                                      \n",
    "             [0 1 0 1 0 1 0 1]                                                      \n",
    "             [1 0 1 0 1 0 1 0]                                                      \n",
    "             [0 1 0 1 0 1 0 1]                                                      \n",
    "             [1 0 1 0 1 0 1 0]                                                      \n",
    "             [0 1 0 1 0 1 0 1]                                                      \n",
    "             [1 0 1 0 1 0 1 0]]"
   ]
  },
  {
   "cell_type": "code",
   "execution_count": 15,
   "metadata": {},
   "outputs": [
    {
     "data": {
      "text/plain": [
       "array([[0, 1, 0, 1, 0, 1, 0, 1],\n",
       "       [1, 0, 1, 0, 1, 0, 1, 0],\n",
       "       [0, 1, 0, 1, 0, 1, 0, 1],\n",
       "       [1, 0, 1, 0, 1, 0, 1, 0],\n",
       "       [0, 1, 0, 1, 0, 1, 0, 1],\n",
       "       [1, 0, 1, 0, 1, 0, 1, 0],\n",
       "       [0, 1, 0, 1, 0, 1, 0, 1],\n",
       "       [1, 0, 1, 0, 1, 0, 1, 0]])"
      ]
     },
     "execution_count": 15,
     "metadata": {},
     "output_type": "execute_result"
    }
   ],
   "source": [
    "def question_tenth_solution():\n",
    "    x = np.zeros((8,8),dtype=int)\n",
    "    x[1::2,::2] = 1\n",
    "    x[::2,1::2] = 1\n",
    "    return x\n",
    "question_tenth_solution()\n",
    "\n"
   ]
  },
  {
   "cell_type": "code",
   "execution_count": null,
   "metadata": {},
   "outputs": [],
   "source": []
  }
 ],
 "metadata": {
  "kernelspec": {
   "display_name": "Python 3",
   "language": "python",
   "name": "python3"
  },
  "language_info": {
   "codemirror_mode": {
    "name": "ipython",
    "version": 3
   },
   "file_extension": ".py",
   "mimetype": "text/x-python",
   "name": "python",
   "nbconvert_exporter": "python",
   "pygments_lexer": "ipython3",
   "version": "3.7.6"
  }
 },
 "nbformat": 4,
 "nbformat_minor": 4
}
